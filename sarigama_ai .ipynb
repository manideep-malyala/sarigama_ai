{
  "cells": [
    {
      "cell_type": "markdown",
      "metadata": {
        "id": "pQec_nz5bzhP"
      },
      "source": [
        "### SETTING THE ENV"
      ]
    },
    {
      "cell_type": "code",
      "execution_count": null,
      "metadata": {
        "id": "EGM6_GzvnGbe"
      },
      "outputs": [],
      "source": [
        "log_file=\"/content/sarigama_ai/logs/logs.txt\"\n",
        "![ -f \"$log_file\" ] && > \"$log_file\"\n",
        "!mkdir -p /content/sarigama_ai/logs && touch $log_file && date > $log_file\n",
        "!sudo apt update -yqq >> \"$log_file\" 2>&1 && sudo apt install ffmpeg -yqq >> \"$log_file\" 2>&1 && pip install pytube spleeter pydub mutagen yt-dlp -q >> \"$log_file\" 2>&1\n",
        "!grep -q \"ERROR\" \"$log_file\" && echo \"Something Went Wrong, Try To Run This Cell Again or Check the Log File ... \" || echo \"All Set To Go ... \""
      ]
    },
    {
      "cell_type": "markdown",
      "metadata": {
        "id": "POKxHZWR-RaF"
      },
      "source": [
        "### LOADING THE BATTERIES "
      ]
    },
    {
      "cell_type": "code",
      "execution_count": null,
      "metadata": {
        "id": "fQYb3VZdJKEn"
      },
      "outputs": [],
      "source": [
        "import os\n",
        "import time\n",
        "import shutil\n",
        "import subprocess\n",
        "import spleeter\n",
        "import ffmpeg\n",
        "import zipfile\n",
        "import yt_dlp\n",
        "from IPython.display import Audio\n",
        "from pytube import YouTube\n",
        "from pydub import AudioSegment\n",
        "from google.colab import files\n",
        "from mutagen.mp3 import MP3\n",
        "print(\"Batteries Loaded ! \")"
      ]
    },
    {
      "cell_type": "markdown",
      "metadata": {
        "id": "ufS9I983qOCb"
      },
      "source": [
        "### CREATING THE PROJECT"
      ]
    },
    {
      "cell_type": "code",
      "execution_count": null,
      "metadata": {
        "id": "SsoP_TAlxozX"
      },
      "outputs": [],
      "source": [
        "def create_project_directory():\n",
        "    root_dir = \"/content/sarigama_ai\"\n",
        "    project_name = input(\"\\nEnter Your Project Name :  \")\n",
        "    project_dir = os.path.join(root_dir, project_name)\n",
        "    input_dir = os.path.join(project_dir, \"input_data\")\n",
        "    output_dir = os.path.join(project_dir, \"output_data\")\n",
        "\n",
        "    for directory in [project_dir, input_dir, output_dir]:\n",
        "        if not os.path.exists(directory):\n",
        "            os.makedirs(directory)\n",
        "            print(f\"\\nCreated Directory {directory}\")\n",
        "    print(\"\\nProject Structure Generated ...\\n \")\n",
        "    return project_name, input_dir, output_dir\n",
        "pro_name,ip_dir, op_dir = create_project_directory()"
      ]
    },
    {
      "cell_type": "markdown",
      "metadata": {
        "id": "GCmhZR9g495q"
      },
      "source": [
        "### OPTION 1 : DOWNLOAD FILE"
      ]
    },
    {
      "cell_type": "code",
      "execution_count": null,
      "metadata": {
        "id": "S3DliE9_F-sp"
      },
      "outputs": [],
      "source": [
        "def download_audio_file(res_link, ip_dir):\n",
        "    start_time = time.time()\n",
        "    \n",
        "    try:\n",
        "        if \"youtube.com\" in res_link:\n",
        "            print(\"\\nJust a Moment, We're Fetching the Audio File for You from YouTube ...\")\n",
        "            ydl_opts = {'format': 'bestaudio/best', 'outtmpl': os.path.join(ip_dir, '%(title)s.%(ext)s'), 'postprocessors': [{'key': 'FFmpegExtractAudio', 'preferredcodec': 'mp3', 'preferredquality': '0'}], 'quiet': True}\n",
        "            with yt_dlp.YoutubeDL(ydl_opts) as ydl:\n",
        "                info_dict = ydl.extract_info(res_link, download=True)\n",
        "                original_audio = ydl.prepare_filename(info_dict)\n",
        "                \n",
        "        else:\n",
        "            print(\"\\nJust a Moment, We're Downloading the Audio File for You ...\")\n",
        "            file_name = res_link.split(\"/\")[-1]\n",
        "            file_path = os.path.join(ip_dir, file_name)\n",
        "            os.system(f'wget -q -O \"{file_path}\" \"{res_link}\"')\n",
        "            original_audio = file_path\n",
        "\n",
        "        end_time = time.time()\n",
        "        total_time = round(end_time - start_time, 2)\n",
        "\n",
        "        print(f\"\\nAudio File Downloaded Successfully ... \\n\\nTotal Time Taken: {total_time} Seconds ... \\n\")\n",
        "        return original_audio\n",
        "    except Exception as e:\n",
        "        print(f\"\\nError Occured While Downloading the Audio File ... \\n\\nChange the URL or Proceed with File Upload Option ... \\n\")\n",
        "        return None\n",
        "\n",
        "any_link = input(\"\\nEnter The URL for the Audio To Be Downloaded :  ( Youtube | WebURL ) :  \")\n",
        "oA = \".\".join(download_audio_file(any_link, ip_dir).split(\".\")[:-1]) + \".mp3\"\n"
      ]
    },
    {
      "cell_type": "markdown",
      "metadata": {
        "id": "TyRsefdUqsCM"
      },
      "source": [
        "### OPTION 2 : FILE UPLOAD  [ uncomment the function call and run ]"
      ]
    },
    {
      "cell_type": "code",
      "execution_count": null,
      "metadata": {
        "id": "dPr3_uqmvqqU"
      },
      "outputs": [],
      "source": [
        "def upload_audio_file(ip_dir):\n",
        "    start_time = time.time()\n",
        "    print(\"\\n\\nSelect the Audio File To Upload :  \")\n",
        "    uploaded_file = files.upload()\n",
        "    file_name = list(uploaded_file.keys())[0]\n",
        "    file_extension = os.path.splitext(file_name)[1]\n",
        "    if file_extension not in [\".mp3\", \".wav\"]:\n",
        "        print(\"\\nError: Please Upload an Audio File with .mp3 or .wav Extension  ! \")\n",
        "        return None\n",
        "    original_audio_path = os.path.join(os.getcwd(), file_name)\n",
        "   \n",
        "    with open(original_audio_path, \"wb\") as f:\n",
        "        f.write(uploaded_file[file_name])\n",
        "    shutil.move(original_audio_path, ip_dir)\n",
        "    original_audio = os.path.join(ip_dir, file_name)\n",
        "    end_time = time.time()\n",
        "    total_time = end_time - start_time\n",
        "    if total_time > 60:\n",
        "        total_time = round(total_time / 60, 2)\n",
        "        print(f\"\\nAudio File Uploaded Successfully ... \\n\\nTotal Time Taken : {total_time} Minutes ... \")\n",
        "    else:\n",
        "        total_time = round(total_time, 2)\n",
        "        print(f\"\\nDone! Upload \\n\\nTotal Time Taken : {total_time} Seconds .. \")\n",
        "\n",
        "    return original_audio\n",
        "#oA = upload_audio_file(ip_dir)"
      ]
    },
    {
      "cell_type": "markdown",
      "metadata": {
        "id": "VotI8fGFCoLU"
      },
      "source": [
        "### AUDIO INFO"
      ]
    },
    {
      "cell_type": "code",
      "execution_count": null,
      "metadata": {
        "id": "875TO5VE4GL3"
      },
      "outputs": [],
      "source": [
        "def audio_details(file_path):\n",
        "    audio = MP3(file_path)\n",
        "    audio_name = os.path.basename(file_path)\n",
        "    audio_length = audio.info.length  # in seconds\n",
        "    audio_size = os.path.getsize(file_path) / (1024 * 1024)  # in MB\n",
        "    audio_bitrate = audio.info.bitrate / 1000  # in kbps\n",
        "\n",
        "    if audio_length >= 60:\n",
        "        audio_length = int(audio_length // 60)\n",
        "        audio_length_str = f\"{audio_length} minutes\"\n",
        "    else:\n",
        "        audio_length = int(audio_length)\n",
        "        audio_length_str = f\"{audio_length} seconds\"\n",
        "    \n",
        "    audio_details_dict = {\n",
        "        \"audio_name\": audio_name,\n",
        "        \"duration\": audio_length_str,\n",
        "        \"size\": f\"{audio_size:.2f} MB\",\n",
        "        \"bitrate\": f\"{audio_bitrate:.2f} kbps\"\n",
        "    }\n",
        "    \n",
        "    print(audio_details_dict, \"\\n\")\n",
        "    return audio_details_dict\n",
        "\n",
        "\n",
        "details = audio_details(oA)\n",
        "Audio(oA)"
      ]
    },
    {
      "cell_type": "markdown",
      "metadata": {
        "id": "7YxgSXhyCNSa"
      },
      "source": [
        "### SEPARATIONS"
      ]
    },
    {
      "cell_type": "code",
      "execution_count": null,
      "metadata": {
        "id": "Plknfj2tbI_K"
      },
      "outputs": [],
      "source": [
        "start_time = time.time()\n",
        "!spleeter separate -p spleeter:4stems -o \"{op_dir}\" \"{oA}\" \n",
        "!spleeter separate -p spleeter:2stems -o \"{op_dir}/\" \"{oA}\" \n",
        "end_time = time.time()\n",
        "time_taken = end_time - start_time\n",
        "time_unit = \"Seconds\" if time_taken < 60 else \"Minutes\"\n",
        "time_taken = time_taken / 60 if time_unit == \"Minutes\" else time_taken\n",
        "print(f\"\\nTime Taken For Separations : {time_taken:.2f} {time_unit}\")\n",
        "os.rename(os.path.join(op_dir, os.listdir(op_dir)[0]), os.path.join(op_dir, 'separations'))"
      ]
    },
    {
      "cell_type": "markdown",
      "metadata": {
        "id": "aPnDxqOcj73w"
      },
      "source": [
        "### CONVERSIONS"
      ]
    },
    {
      "cell_type": "code",
      "execution_count": null,
      "metadata": {
        "id": "Ikyqs9yoHSzV"
      },
      "outputs": [],
      "source": [
        "wav_files_dir = op_dir+\"/separations\"\n",
        "files_to_convert = [os.path.join(wav_files_dir, file_name) for file_name in os.listdir(wav_files_dir) if file_name.endswith('.wav')]\n",
        "start_time = time.time()\n",
        "for file in files_to_convert:\n",
        "    wav_file = AudioSegment.from_wav(file)\n",
        "    file_size_before = os.path.getsize(file)\n",
        "    file_size_before_str = '{:.2f} MB'.format(file_size_before / (1024 * 1024))\n",
        "    wav_bitrate = wav_file.frame_rate * wav_file.channels * 16 / 1000 \n",
        "\n",
        "    pre_path = os.path.abspath(os.path.join(os.path.dirname(file), os.pardir))\n",
        "    output_dir = os.path.join(pre_path, \"conversions\")\n",
        "    os.makedirs(output_dir, exist_ok=True)\n",
        "\n",
        "    mp3_file_path = os.path.join(output_dir, os.path.basename(file).replace('.wav', '.mp3'))\n",
        "    mp3_file = wav_file.export(mp3_file_path, format='mp3', bitrate='192k')\n",
        "    file_size_after = os.path.getsize(mp3_file_path)\n",
        "    file_size_after_str = '{:.2f} MB'.format(file_size_after / (1024 * 1024))\n",
        "    mp3_file = AudioSegment.from_mp3(mp3_file_path)\n",
        "    mp3_bitrate = mp3_file.frame_rate * mp3_file.channels * mp3_file.sample_width / 1000 \n",
        "\n",
        "    print('File: {}\\nSize & Bitrate : Before Conversion : {} ({} kbps)\\nSize & Bitrate : After: {} ({} kbps)\\n'.format(file, file_size_before_str, int(wav_bitrate), file_size_after_str, int(mp3_bitrate)))\n",
        "end_time = time.time()\n",
        "time_taken = end_time - start_time\n",
        "time_unit = \"Seconds\" if time_taken < 60 else \"Minutes\"\n",
        "time_taken = time_taken / 60 if time_unit == \"Minutes\" else time_taken\n",
        "print(f\"\\nTime Taken For Conversions : {time_taken:.2f} {time_unit}\")"
      ]
    },
    {
      "cell_type": "markdown",
      "metadata": {
        "id": "fMWWUlMrkawe"
      },
      "source": [
        "### LOAD MP3 TRACKS"
      ]
    },
    {
      "cell_type": "code",
      "execution_count": null,
      "metadata": {
        "id": "oxhj6qS-NYU1"
      },
      "outputs": [],
      "source": [
        "mp3_files_dir = op_dir+\"/conversions\"\n",
        "target_files = [os.path.join(mp3_files_dir, file_name) for file_name in os.listdir(mp3_files_dir) if file_name.endswith('.mp3')]\n",
        "for file_path in target_files:\n",
        "    file_name = os.path.basename(file_path)\n",
        "    print('\\ntrack : ', file_name , \"\\n\")\n",
        "    display(Audio(file_path))"
      ]
    },
    {
      "cell_type": "markdown",
      "source": [
        "### WAV TRACKS"
      ],
      "metadata": {
        "id": "AYanB2EzNZcw"
      }
    },
    {
      "cell_type": "markdown",
      "metadata": {
        "id": "MRYRxJBEzUeJ"
      },
      "source": [
        "\n",
        "##### Access The Original .wav Files from Project/OutputData/Separations \n",
        "######  Not Recommended To Load Due To Larger File Sizes"
      ]
    },
    {
      "cell_type": "markdown",
      "metadata": {
        "id": "vUO5VApAGvgA"
      },
      "source": [
        "### DOWNLOAD THE TRACKS "
      ]
    },
    {
      "cell_type": "code",
      "execution_count": null,
      "metadata": {
        "id": "_FJZWd9U_1l0"
      },
      "outputs": [],
      "source": [
        "def download_audio_files(op_dir, project_title):\n",
        "    file_type = \"wav\" if input(\"Enter 'w' to download WAV files or 'm' to download MP3 files: \") == \"w\" else \"mp3\"\n",
        "    zip_file_name = f\"{project_title}_{file_type}_tracks.zip\"\n",
        "    zip_file_path = os.path.join(os.path.dirname(op_dir), \"downloads\", zip_file_name)\n",
        "\n",
        "    os.makedirs(os.path.dirname(zip_file_path), exist_ok=True)\n",
        "\n",
        "    with zipfile.ZipFile(zip_file_path, 'w', zipfile.ZIP_DEFLATED) as zip_file:\n",
        "        for file_name in os.listdir(os.path.join(op_dir, \"separations\" if file_type == 'wav' else \"conversions\")):\n",
        "            zip_file.write(os.path.join(op_dir, \"separations\" if file_type == 'wav' else \"conversions\", file_name), file_name)\n",
        "\n",
        "    files.download(zip_file_path)\n",
        "\n",
        "download_audio_files(op_dir, pro_name)"
      ]
    }
  ],
  "metadata": {
    "colab": {
      "provenance": []
    },
    "kernelspec": {
      "display_name": "Python 3",
      "name": "python3"
    },
    "language_info": {
      "name": "python"
    }
  },
  "nbformat": 4,
  "nbformat_minor": 0
}